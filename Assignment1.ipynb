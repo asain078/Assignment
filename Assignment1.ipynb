{
  "cells": [
    {
      "cell_type": "markdown",
      "source": [
        "1.What is Python, and why is it popular?\n",
        "\n",
        "Python is a high-level, interpreted programming language known for its simplicity, readability, and versatility.\n",
        "\n",
        "It is popular due to the following reason-\n",
        "\n",
        "**High-level**: Abstracts many complex details of the computer, making it easier to write and understand code.\n",
        "\n",
        "**Interpreted**: You don't need to compile your code; you can run it line-by-line.\n",
        "\n",
        "**Dynamically typed**: You don’t need to declare variable types explicitly.\n",
        "\n",
        "**Multi-paradigm**: Supports object-oriented, procedural, and functional programming.\n",
        "\n",
        "=============================================="
      ],
      "metadata": {
        "id": "sLXgs74ql3UY"
      }
    },
    {
      "cell_type": "markdown",
      "source": [
        "2.What is an interpreter in Python?\n",
        "\n",
        "An interpreter in Python is a program that executes Python code line by line, translating the high-level language (Python code) into machine code that the computer can understand.\n",
        "\n",
        "The Python interpreter provides several benefits:\n",
        "\n",
        "**Immediate feedback**: You can execute Python code interactively, seeing results right away, which is great for testing and debugging.\n",
        "\n",
        "**Platform independence**: The same Python code can run on different operating systems as long as the interpreter is installed.\n",
        "\n",
        "**Flexibility**: It supports dynamic typing, allowing you to test and modify code on the fly.\n",
        "\n",
        "=================================================\n"
      ],
      "metadata": {
        "id": "grS6IhQZmOvE"
      }
    },
    {
      "cell_type": "markdown",
      "source": [
        "3.What are pre-defined keywords in Python?\n",
        "\n",
        "Predefined keywords in Python are reserved words that have special meaning and purpose within the language. They cannot be used for naming variables, functions, or other identifiers because they are part of Python's syntax. These keywords help define the structure and logic of the code.\n",
        "\n",
        "Here’s a list of some common predefined keywords in Python:\n",
        "\n",
        "Control flow: if, elif, else, while, for, break, continue\n",
        "\n",
        "Boolean logic: True, False, and, or, not\n",
        "\n",
        "Data types: int, float, str, list, dict, set, tuple\n",
        "\n",
        "Functions and classes: def, return, class, lambda\n",
        "\n",
        "Error handling: try, except, finally, raise\n",
        "\n",
        "Miscellaneous: import, from, as, global, nonlocal, pass, yield, del, with, is, in\n",
        "\n",
        "==================================================\n"
      ],
      "metadata": {
        "id": "7C-r9xgGmc-O"
      }
    },
    {
      "cell_type": "markdown",
      "source": [
        "4.Can keywords be used as variable names?\n",
        "\n",
        "No, predefined keywords cannot be used as variable names in Python. Since keywords are reserved for specific purposes and have special meaning within the language, using them as identifiers would cause a syntax error.\n",
        "\n",
        "===============================================\n"
      ],
      "metadata": {
        "id": "0oAPef33nJTB"
      }
    },
    {
      "cell_type": "markdown",
      "source": [
        "5.What is mutability in Python?\n",
        "\n",
        "Mutability in Python refers to whether an object can be modified after it is created. Objects in Python are categorized as mutable (changeable) or immutable (unchangeable) based on this characteristic.\n",
        "\n",
        "Mutable Objects:\n",
        "\n",
        "These can be changed after creation. You can modify, add, or remove elements without creating a new object.\n",
        "\n",
        "Examples: list, dict, set.\n",
        "\n",
        "Immutable Objects:\n",
        "\n",
        "These cannot be changed after creation. If you attempt to modify them, a new object is created instead.\n",
        "\n",
        "Examples: int, float, str, tuple, frozenset.\n",
        "\n",
        "==============================================\n"
      ],
      "metadata": {
        "id": "pNQIQPXLne6q"
      }
    },
    {
      "cell_type": "markdown",
      "source": [
        "6.Why are lists mutable, but tuples are immutable?\n",
        "\n",
        "Lists and tuples are both data structures in Python that can store collections of items. While they may seem similar, they differ in key ways, making each suitable for specific use cases.\n",
        "\n",
        "Why Lists Are Mutable\n",
        "\n",
        "Lists are designed to be flexible and dynamic, allowing modifications such as adding, removing, or changing elements. This flexibility makes them suitable for situations where the data changes frequently or requires manipulation.\n",
        "\n",
        "Why Tuples Are Immutable\n",
        "Tuples are designed for situations where data integrity is essential—when the data should remain constant throughout the program. Immutability ensures that once a tuple is created, its elements cannot be changed.\n",
        "\n",
        "The difference also lies in how Python handles memory:\n",
        "\n",
        "Lists: Use a dynamic structure in memory, allowing changes to the content without creating new objects.\n",
        "\n",
        "Tuples: Use a fixed structure. Immutability enables Python to optimize memory and improve performance when handling tuples.\n",
        "\n",
        "=============================================\n",
        "\n"
      ],
      "metadata": {
        "id": "PDNWkUgDn1MP"
      }
    },
    {
      "cell_type": "markdown",
      "source": [
        "7.What is the difference between “==” and “is” operators in Python?\n",
        "\n",
        "In Python, the == and is operators may seem similar but serve distinct purposes. Here's how they differ:\n",
        "\n",
        "1. Equality Operator (==)\n",
        "The == operator checks value equality—whether the values of two objects are equal.\n",
        "\n",
        "Even if two objects have the same value but are stored at different memory locations, == will return True.\n",
        "\n",
        "2. Identity Operator (is)\n",
        "The is operator checks identity—whether two objects refer to the same memory location (i.e., are the same object).\n",
        "\n",
        "If two objects have the same value but exist as separate objects in memory, is will return False.\n",
        "\n",
        "NOTE:\n",
        "\n",
        "Use == when comparing values.\n",
        "\n",
        "Use 'is' when checking whether two references point to the same object.\n",
        "\n",
        "===========================================\n"
      ],
      "metadata": {
        "id": "y4qS-TIMpRou"
      }
    },
    {
      "cell_type": "markdown",
      "source": [
        "8.What are logical operators in Python?\n",
        "\n",
        "Logical operators in Python are used to combine or evaluate boolean expressions, returning True or False based on the logic applied. They help in decision-making within your code and are essential for conditional statements and loops.\n",
        "\n",
        "Types of Logical Operators:\n",
        "\n",
        "(A)and:\n",
        "Returns True only if both expressions are True.\n",
        "\n",
        "(B)or:\n",
        "Returns True if either one or both expressions are True.\n",
        "\n",
        "(C)not:\n",
        "Reverses the result of a boolean expression. If the expression is True, not makes it False, and vice versa.\n",
        "\n",
        "NOTE:\n",
        "\n",
        "and: True only if both conditions are true.\n",
        "or: True if at least one condition is true.\n",
        "not: Inverts the truth value.\n",
        "\n",
        "===============================================\n"
      ],
      "metadata": {
        "id": "C_eZKiIEp8LA"
      }
    },
    {
      "cell_type": "markdown",
      "source": [
        "9.What is type casting in Python?\n",
        "\n",
        "Type casting in Python refers to converting one data type into another. This is useful when you need to perform operations that require values to be of a specific type. Python offers two types of type casting:\n",
        "\n",
        "1. Explicit Type Casting (Type Conversion)\n",
        "This is when you, as the programmer, intentionally convert a value from one type to another using built-in functions.\n",
        "\n",
        "Common functions for explicit conversion:\n",
        "int(): Converts to an integer.\n",
        "float(): Converts to a float.\n",
        "str(): Converts to a string.\n",
        "list(), tuple(), set(): Convert to respective collections.\n",
        "\n",
        "2. Implicit Type Casting (Type Coercion)\n",
        "This is handled automatically by Python, where it converts one data type to another during operations without user intervention.\n",
        "\n",
        "Python promotes data types to a more general type (e.g., int to float) to prevent data loss.\n",
        "\n",
        "**Important Notes:**\n",
        "Not all conversions are possible: For example, converting a string with non-numeric content to an integer (int(\"hello\")) will raise a ValueError.\n",
        "\n",
        "Explicit type casting allows more control, while implicit casting is convenient for seamless operations.\n",
        "\n",
        "===============================================\n"
      ],
      "metadata": {
        "id": "YqIrYCCQqgfe"
      }
    },
    {
      "cell_type": "markdown",
      "source": [
        "10.What is the difference between implicit and explicit type casting?\n",
        "\n",
        "The difference between implicit and explicit type casting lies in how and when the type conversion occurs:\n",
        "\n",
        "1. Implicit Type Casting\n",
        "Definition: This happens automatically when Python converts a value from one type to another without explicit instruction from the programmer. It's often done to maintain consistency or prevent data loss during operations.\n",
        "\n",
        "Use Case: Happens when combining compatible types (e.g., int to float) where precision needs to be maintained.\n",
        "\n",
        "2. Explicit Type Casting\n",
        "Definition: The programmer manually converts a value from one type to another using built-in functions like int(), float(), or str().\n",
        "\n",
        "Use Case: Used when the programmer wants to convert data intentionally, especially when Python doesn't do it automatically (e.g., converting a string to an integer).\n",
        "\n",
        "===============================================\n"
      ],
      "metadata": {
        "id": "_Jabcxt7rC5R"
      }
    },
    {
      "cell_type": "markdown",
      "source": [
        "11.What is the purpose of conditional statements in Python?\n",
        "\n",
        "The purpose of conditional statements in Python is to enable decision-making in your code. They allow the program to execute specific blocks of code based on whether a condition evaluates to True or False. By using conditional statements, you can control the flow of the program and make it responsive to different inputs, circumstances, or logic.\n",
        "\n",
        "Key Uses of Conditional Statements:\n",
        "\n",
        "Decision-Making:\n",
        "Execute certain actions only when specific conditions are met.\n",
        "\n",
        "Handling Multiple Conditions:\n",
        "Check multiple conditions and decide which block of code to run.\n",
        "\n",
        "Loop Control:\n",
        "Use conditions to control when a loop continues or stops.\n",
        "\n",
        "Error Handling:\n",
        "Prevent the program from crashing by verifying conditions before executing potentially problematic code.\n",
        "\n",
        "================================================"
      ],
      "metadata": {
        "id": "yCahqv6irhka"
      }
    },
    {
      "cell_type": "markdown",
      "source": [
        "12.How does the elif statement work?\n",
        "\n",
        "The elif statement in Python (short for \"else if\") is used in conditional structures to check additional conditions after an if condition. It works as a middle step between if and else, allowing your program to test multiple conditions sequentially.\n",
        "\n",
        "How It Works:\n",
        "The elif statement is evaluated only if the preceding if condition is False.\n",
        "\n",
        "If the elif condition evaluates to True, its corresponding block of code is executed.\n",
        "\n",
        "You can use multiple elif statements to check several conditions, but Python stops evaluating further conditions once one is True.\n",
        "\n",
        "If none of the conditions (including if and elif) are True, you can use an optional else block to execute a default action.\n",
        "\n",
        "==========================================\n"
      ],
      "metadata": {
        "id": "LCW65zm4r3oO"
      }
    },
    {
      "cell_type": "markdown",
      "source": [
        "13.What is the difference between for and while loops?\n",
        "\n",
        "In Python, for loops and while loops are used for iterative operations, but they differ in how they work and when they are best suited.\n",
        "\n",
        "1. For Loop:\n",
        "Purpose: Used when you know the number of iterations in advance or when iterating through a collection (like lists, tuples, or ranges).\n",
        "\n",
        "Functionality: Iterates over a sequence or iterable (e.g., a list, string, or range).\n",
        "\n",
        "2. While Loop:\n",
        "Purpose: Used when the number of iterations is not known in advance and depends on a condition being true.\n",
        "\n",
        "Functionality: Continues iterating as long as the specified condition remains true.\n",
        "\n",
        "When to Use:\n",
        "\n",
        "Use a for loop when working with sequences or iterables (e.g., iterating through a list).\n",
        "\n",
        "Use a while loop when a condition determines when the iteration ends (e.g., waiting for user input).\n",
        "\n",
        "================================================\n"
      ],
      "metadata": {
        "id": "ROdf2W0VsJEz"
      }
    },
    {
      "cell_type": "markdown",
      "source": [
        "14.Describe a scenario where a while loop is more suitable than a for loop?\n",
        "\n",
        "A while loop is more suitable in scenarios where the number of iterations is not predetermined and depends on a specific condition being met during runtime. Here's an example:\n",
        "\n",
        "Scenario: Waiting for User Input\n",
        "Imagine you're building a program that continuously prompts a user for valid input until they enter a specific value or meet a certain condition. Since you can't know beforehand how many attempts it will take, a while loop is the better choice.\n",
        "\n",
        "==============================================\n"
      ],
      "metadata": {
        "id": "7RtEGpwwtz5s"
      }
    },
    {
      "cell_type": "markdown",
      "source": [
        "***PRACTICAL QUESTIONS:***"
      ],
      "metadata": {
        "id": "NUIWC308sluc"
      }
    },
    {
      "cell_type": "markdown",
      "source": [
        "1.Write a Python program to print \"Hello, World\n"
      ],
      "metadata": {
        "id": "xuw6GGBkse2O"
      }
    },
    {
      "cell_type": "code",
      "source": [
        "print(\"Hello, World\")\n"
      ],
      "metadata": {
        "colab": {
          "base_uri": "https://localhost:8080/"
        },
        "id": "XhCFNbG_udIY",
        "outputId": "4c7c2346-97a8-44c9-cfea-f23271c83e1d"
      },
      "execution_count": 1,
      "outputs": [
        {
          "output_type": "stream",
          "name": "stdout",
          "text": [
            "Hello, World\n"
          ]
        }
      ]
    },
    {
      "cell_type": "markdown",
      "source": [
        "2. Write a Python program that displays your name and age?"
      ],
      "metadata": {
        "id": "HdqQA1mwu2Ec"
      }
    },
    {
      "cell_type": "code",
      "source": [
        "\n",
        "name = \"ANKUR\"\n",
        "age = \"30\"\n",
        "\n",
        "print(\"My name is\", name)\n",
        "print(\"My age is\", age)\n"
      ],
      "metadata": {
        "colab": {
          "base_uri": "https://localhost:8080/"
        },
        "id": "wzNobq21vAt-",
        "outputId": "915af0c0-cb42-41e3-c4ec-741958e7e949"
      },
      "execution_count": 2,
      "outputs": [
        {
          "output_type": "stream",
          "name": "stdout",
          "text": [
            "My name is ANKUR\n",
            "My age is 30\n"
          ]
        }
      ]
    },
    {
      "cell_type": "markdown",
      "source": [
        "3.Write code to print all the pre-defined keywords in Python using the keyword library."
      ],
      "metadata": {
        "id": "LcXjlEz0vWNk"
      }
    },
    {
      "cell_type": "code",
      "source": [
        "\n",
        "import keyword\n",
        "\n",
        "print(\"Predefined keywords in Python:\")\n",
        "print(keyword.kwlist)\n"
      ],
      "metadata": {
        "colab": {
          "base_uri": "https://localhost:8080/"
        },
        "id": "xDG-R8DDvfCO",
        "outputId": "8fb7a4bb-4294-4db8-ec66-3507fb2bcba9"
      },
      "execution_count": 3,
      "outputs": [
        {
          "output_type": "stream",
          "name": "stdout",
          "text": [
            "Predefined keywords in Python:\n",
            "['False', 'None', 'True', 'and', 'as', 'assert', 'async', 'await', 'break', 'class', 'continue', 'def', 'del', 'elif', 'else', 'except', 'finally', 'for', 'from', 'global', 'if', 'import', 'in', 'is', 'lambda', 'nonlocal', 'not', 'or', 'pass', 'raise', 'return', 'try', 'while', 'with', 'yield']\n"
          ]
        }
      ]
    },
    {
      "cell_type": "markdown",
      "source": [
        "4.Write a program that checks if a given word is a Python keyword."
      ],
      "metadata": {
        "id": "Tl5GPFA-v216"
      }
    },
    {
      "cell_type": "code",
      "source": [
        "import keyword\n",
        "\n",
        "# Ask the user for a word\n",
        "word = input(\"Enter a word: \")\n",
        "\n",
        "# Check if the word is a keyword\n",
        "if keyword.iskeyword(word):\n",
        "    print(f\"'{word}' is a Python keyword.\")\n",
        "else:\n",
        "    print(f\"'{word}' is NOT a Python keyword.\")\n"
      ],
      "metadata": {
        "colab": {
          "base_uri": "https://localhost:8080/"
        },
        "id": "euJrwOB4wDMi",
        "outputId": "3cfbe457-5aeb-40a6-9e2b-86c6dd8fd4da"
      },
      "execution_count": 5,
      "outputs": [
        {
          "output_type": "stream",
          "name": "stdout",
          "text": [
            "Enter a word: if\n",
            "'if' is a Python keyword.\n"
          ]
        }
      ]
    },
    {
      "cell_type": "markdown",
      "source": [
        "5.Create a list and tuple in Python, and demonstrate how attempting to change an element works differently\n",
        "for each."
      ],
      "metadata": {
        "id": "q50OJAi_wYlo"
      }
    },
    {
      "cell_type": "code",
      "source": [
        "# Creating a list\n",
        "my_list = [1, 2, 3]\n",
        "print(\"Original list:\", my_list)\n",
        "\n",
        "# Modifying an element in the list\n",
        "my_list[1] = 20\n",
        "print(\"Modified list:\", my_list)\n",
        "\n",
        "# Creating a tuple\n",
        "my_tuple = (1, 2, 3)\n",
        "print(\"\\nOriginal tuple:\", my_tuple)\n",
        "\n",
        "# Attempting to modify an element in the tuple\n",
        "try:\n",
        "    my_tuple[1] = 20  # This will raise a TypeError\n",
        "except TypeError as e:\n",
        "    print(\"Error:\", e)\n"
      ],
      "metadata": {
        "colab": {
          "base_uri": "https://localhost:8080/"
        },
        "id": "SLT4FQmwwc7J",
        "outputId": "a77f6b4b-7881-4845-aee0-059807707f17"
      },
      "execution_count": 6,
      "outputs": [
        {
          "output_type": "stream",
          "name": "stdout",
          "text": [
            "Original list: [1, 2, 3]\n",
            "Modified list: [1, 20, 3]\n",
            "\n",
            "Original tuple: (1, 2, 3)\n",
            "Error: 'tuple' object does not support item assignment\n"
          ]
        }
      ]
    },
    {
      "cell_type": "markdown",
      "source": [
        "6.Write a function to demonstrate the behavior of mutable and immutable arguments."
      ],
      "metadata": {
        "id": "K-94J9kaw1vZ"
      }
    },
    {
      "cell_type": "code",
      "source": [
        "# Function to modify a mutable and immutable argument\n",
        "def demonstrate_arguments(mutable_arg, immutable_arg):\n",
        "    # Modifying mutable argument\n",
        "    mutable_arg.append(100)\n",
        "    print(\"Inside function (mutable):\", mutable_arg)\n",
        "\n",
        "    # Modifying immutable argument\n",
        "    immutable_arg += 100\n",
        "    print(\"Inside function (immutable):\", immutable_arg)\n",
        "\n",
        "# Mutable argument: list\n",
        "my_list = [1, 2, 3]\n",
        "# Immutable argument: integer\n",
        "my_number = 50\n",
        "\n",
        "print(\"Before function call:\")\n",
        "print(\"Mutable argument:\", my_list)\n",
        "print(\"Immutable argument:\", my_number)\n",
        "\n",
        "# Calling the function\n",
        "demonstrate_arguments(my_list, my_number)\n",
        "\n",
        "print(\"\\nAfter function call:\")\n",
        "print(\"Mutable argument:\", my_list)  # List is modified\n",
        "print(\"Immutable argument:\", my_number)  # Integer remains unchanged\n"
      ],
      "metadata": {
        "colab": {
          "base_uri": "https://localhost:8080/"
        },
        "id": "WwhwSQNqw7Lb",
        "outputId": "45d52a02-5ad9-4e0c-bad6-1470e803bd09"
      },
      "execution_count": 7,
      "outputs": [
        {
          "output_type": "stream",
          "name": "stdout",
          "text": [
            "Before function call:\n",
            "Mutable argument: [1, 2, 3]\n",
            "Immutable argument: 50\n",
            "Inside function (mutable): [1, 2, 3, 100]\n",
            "Inside function (immutable): 150\n",
            "\n",
            "After function call:\n",
            "Mutable argument: [1, 2, 3, 100]\n",
            "Immutable argument: 50\n"
          ]
        }
      ]
    },
    {
      "cell_type": "markdown",
      "source": [
        "7.Write a program that performs basic arithmetic operations on two user-input numbers."
      ],
      "metadata": {
        "id": "fW3wvzSCxM9L"
      }
    },
    {
      "cell_type": "code",
      "source": [
        "# Prompt the user for two numbers\n",
        "num1 = float(input(\"Enter the first number: \"))\n",
        "num2 = float(input(\"Enter the second number: \"))\n",
        "\n",
        "# Perform arithmetic operations\n",
        "addition = num1 + num2\n",
        "subtraction = num1 - num2\n",
        "multiplication = num1 * num2\n",
        "\n",
        "# Handle division separately to avoid division by zero\n",
        "if num2 != 0:\n",
        "    division = num1 / num2\n",
        "else:\n",
        "    division = \"Undefined (division by zero is not allowed)\"\n",
        "\n",
        "# Display the results\n",
        "print(\"\\nResults:\")\n",
        "print(f\"Addition: {num1} + {num2} = {addition}\")\n",
        "print(f\"Subtraction: {num1} - {num2} = {subtraction}\")\n",
        "print(f\"Multiplication: {num1} * {num2} = {multiplication}\")\n",
        "print(f\"Division: {num1} / {num2} = {division}\")\n"
      ],
      "metadata": {
        "colab": {
          "base_uri": "https://localhost:8080/"
        },
        "id": "z4h85sfJxXoL",
        "outputId": "cb1e83e0-5b52-46d3-e7be-cb21f0a9f1f2"
      },
      "execution_count": 8,
      "outputs": [
        {
          "output_type": "stream",
          "name": "stdout",
          "text": [
            "Enter the first number: 50\n",
            "Enter the second number: 23\n",
            "\n",
            "Results:\n",
            "Addition: 50.0 + 23.0 = 73.0\n",
            "Subtraction: 50.0 - 23.0 = 27.0\n",
            "Multiplication: 50.0 * 23.0 = 1150.0\n",
            "Division: 50.0 / 23.0 = 2.1739130434782608\n"
          ]
        }
      ]
    },
    {
      "cell_type": "markdown",
      "source": [
        "8. Write a program to demonstrate the use of logical operators."
      ],
      "metadata": {
        "id": "CZJylJAGxio6"
      }
    },
    {
      "cell_type": "code",
      "source": [
        "# Input: Prompt the user for two numbers\n",
        "num1 = int(input(\"Enter the first number: \"))\n",
        "num2 = int(input(\"Enter the second number: \"))\n",
        "\n",
        "# Demonstrating the AND operator\n",
        "if num1 > 0 and num2 > 0:\n",
        "    print(\"Both numbers are positive.\")\n",
        "\n",
        "# Demonstrating the OR operator\n",
        "if num1 % 2 == 0 or num2 % 2 == 0:\n",
        "    print(\"At least one of the numbers is even.\")\n",
        "\n",
        "# Demonstrating the NOT operator\n",
        "if not(num1 < 0 or num2 < 0):\n",
        "    print(\"Neither number is negative.\")\n",
        "else:\n",
        "    print(\"At least one number is negative.\")\n"
      ],
      "metadata": {
        "colab": {
          "base_uri": "https://localhost:8080/"
        },
        "id": "7DWjWLLcxsGr",
        "outputId": "18ce7721-d634-4c69-ed5f-7bdd57e686df"
      },
      "execution_count": 9,
      "outputs": [
        {
          "output_type": "stream",
          "name": "stdout",
          "text": [
            "Enter the first number: 5\n",
            "Enter the second number: 9\n",
            "Both numbers are positive.\n",
            "Neither number is negative.\n"
          ]
        }
      ]
    },
    {
      "cell_type": "markdown",
      "source": [
        "9.Write a Python program to convert user input from string to integer, float, and boolean types."
      ],
      "metadata": {
        "id": "3W7Bm3kSx1HT"
      }
    },
    {
      "cell_type": "code",
      "source": [
        "# Prompt the user to enter a value\n",
        "user_input = input(\"Enter a value: \")\n",
        "\n",
        "# Convert the input to different types\n",
        "try:\n",
        "    int_value = int(user_input)  # Convert to integer\n",
        "    print(\"Integer:\", int_value)\n",
        "except ValueError:\n",
        "    print(\"Cannot convert to an integer.\")\n",
        "\n",
        "try:\n",
        "    float_value = float(user_input)  # Convert to float\n",
        "    print(\"Float:\", float_value)\n",
        "except ValueError:\n",
        "    print(\"Cannot convert to a float.\")\n",
        "\n",
        "# Convert to boolean (non-empty strings are True, empty strings are False)\n",
        "bool_value = bool(user_input)\n",
        "print(\"Boolean:\", bool_value)\n"
      ],
      "metadata": {
        "colab": {
          "base_uri": "https://localhost:8080/"
        },
        "id": "hshyLOzex4iw",
        "outputId": "30cb81ad-2d1b-4009-91b1-02472fe86b78"
      },
      "execution_count": 10,
      "outputs": [
        {
          "output_type": "stream",
          "name": "stdout",
          "text": [
            "Enter a value: 234\n",
            "Integer: 234\n",
            "Float: 234.0\n",
            "Boolean: True\n"
          ]
        }
      ]
    },
    {
      "cell_type": "markdown",
      "source": [
        "10.Write code to demonstrate type casting with list elements."
      ],
      "metadata": {
        "id": "lBMHroiJyKG3"
      }
    },
    {
      "cell_type": "code",
      "source": [
        "# Original list with mixed types\n",
        "original_list = [\"1\", \"2\", \"3.5\", \"True\", \"False\"]\n",
        "\n",
        "# Type casting each element in the list\n",
        "int_list = []    # To store integers\n",
        "float_list = []  # To store floats\n",
        "bool_list = []   # To store booleans\n",
        "\n",
        "for element in original_list:\n",
        "    # Attempt to cast to an integer\n",
        "    try:\n",
        "        int_list.append(int(element))\n",
        "    except ValueError:\n",
        "        int_list.append(None)  # Append None if casting fails\n",
        "\n",
        "    # Attempt to cast to a float\n",
        "    try:\n",
        "        float_list.append(float(element))\n",
        "    except ValueError:\n",
        "        float_list.append(None)  # Append None if casting fails\n",
        "\n",
        "    # Attempt to cast to a boolean\n",
        "    bool_list.append(bool(element))  # Booleans always succeed\n",
        "\n",
        "# Display the results\n",
        "print(\"Original list:\", original_list)\n",
        "print(\"Integer casting:\", int_list)\n",
        "print(\"Float casting:\", float_list)\n",
        "print(\"Boolean casting:\", bool_list)\n"
      ],
      "metadata": {
        "colab": {
          "base_uri": "https://localhost:8080/"
        },
        "id": "HUafaSNXyNtG",
        "outputId": "afa1248c-e170-47ce-9542-b6bdb8dcf787"
      },
      "execution_count": 11,
      "outputs": [
        {
          "output_type": "stream",
          "name": "stdout",
          "text": [
            "Original list: ['1', '2', '3.5', 'True', 'False']\n",
            "Integer casting: [1, 2, None, None, None]\n",
            "Float casting: [1.0, 2.0, 3.5, None, None]\n",
            "Boolean casting: [True, True, True, True, True]\n"
          ]
        }
      ]
    },
    {
      "cell_type": "markdown",
      "source": [
        "11.Write a program that checks if a number is positive, negative, or zero."
      ],
      "metadata": {
        "id": "CnZiLLylyVkD"
      }
    },
    {
      "cell_type": "code",
      "source": [
        "# Prompt the user to enter a number\n",
        "number = float(input(\"Enter a number: \"))\n",
        "\n",
        "# Check if the number is positive, negative, or zero\n",
        "if number > 0:\n",
        "    print(\"The number is positive.\")\n",
        "elif number < 0:\n",
        "    print(\"The number is negative.\")\n",
        "else:\n",
        "    print(\"The number is zero.\")\n"
      ],
      "metadata": {
        "colab": {
          "base_uri": "https://localhost:8080/"
        },
        "id": "Vg3xMlTQycWC",
        "outputId": "b9eddb98-1c0a-441a-fc96-22a2cfa95da1"
      },
      "execution_count": 12,
      "outputs": [
        {
          "output_type": "stream",
          "name": "stdout",
          "text": [
            "Enter a number: 34\n",
            "The number is positive.\n"
          ]
        }
      ]
    },
    {
      "cell_type": "markdown",
      "source": [
        "12.Write a for loop to print numbers from 1 to 10.\n"
      ],
      "metadata": {
        "id": "0x17JFLbyhgh"
      }
    },
    {
      "cell_type": "code",
      "source": [
        "for i in range(1, 11):\n",
        "    print(i)\n"
      ],
      "metadata": {
        "colab": {
          "base_uri": "https://localhost:8080/"
        },
        "id": "2NaYfM-fyjHC",
        "outputId": "cb38e112-17fd-440f-81e6-1d51c4f2857b"
      },
      "execution_count": 13,
      "outputs": [
        {
          "output_type": "stream",
          "name": "stdout",
          "text": [
            "1\n",
            "2\n",
            "3\n",
            "4\n",
            "5\n",
            "6\n",
            "7\n",
            "8\n",
            "9\n",
            "10\n"
          ]
        }
      ]
    },
    {
      "cell_type": "markdown",
      "source": [
        "13.Write a Python program to find the sum of all even numbers between 1 and 50."
      ],
      "metadata": {
        "id": "aS9q26jyyqG2"
      }
    },
    {
      "cell_type": "code",
      "source": [
        "# Initialize the sum variable\n",
        "sum_of_evens = 0\n",
        "\n",
        "# Use a for loop to iterate through numbers from 1 to 50\n",
        "for i in range(1, 51):\n",
        "    if i % 2 == 0:  # Check if the number is even\n",
        "        sum_of_evens += i  # Add the even number to the sum\n",
        "\n",
        "# Print the result\n",
        "print(\"The sum of all even numbers between 1 and 50 is:\", sum_of_evens)\n"
      ],
      "metadata": {
        "colab": {
          "base_uri": "https://localhost:8080/"
        },
        "id": "r6vi76x9yw9h",
        "outputId": "95b84356-9149-48e4-fee1-a7a33cdf1e78"
      },
      "execution_count": 14,
      "outputs": [
        {
          "output_type": "stream",
          "name": "stdout",
          "text": [
            "The sum of all even numbers between 1 and 50 is: 650\n"
          ]
        }
      ]
    },
    {
      "cell_type": "markdown",
      "source": [
        "14.Write a program to reverse a string using a while loop."
      ],
      "metadata": {
        "id": "yHmiC1YMy2S8"
      }
    },
    {
      "cell_type": "code",
      "source": [
        "# Prompt the user to enter a string\n",
        "original_string = input(\"Enter a string: \")\n",
        "\n",
        "# Initialize variables\n",
        "reversed_string = \"\"\n",
        "index = len(original_string) - 1  # Start from the last character\n",
        "\n",
        "# Use a while loop to reverse the string\n",
        "while index >= 0:\n",
        "    reversed_string += original_string[index]\n",
        "    index -= 1  # Move to the previous character\n",
        "\n",
        "# Display the reversed string\n",
        "print(\"Reversed string:\", reversed_string)\n"
      ],
      "metadata": {
        "colab": {
          "base_uri": "https://localhost:8080/"
        },
        "id": "44-mIK2Cy6mr",
        "outputId": "905f8cae-5f9c-4d6e-f655-3a9c7befca39"
      },
      "execution_count": 15,
      "outputs": [
        {
          "output_type": "stream",
          "name": "stdout",
          "text": [
            "Enter a string: 12345\n",
            "Reversed string: 54321\n"
          ]
        }
      ]
    },
    {
      "cell_type": "markdown",
      "source": [
        "15.Write a Python program to calculate the factorial of a number provided by the user using a while loop."
      ],
      "metadata": {
        "id": "IS1949eNzAm5"
      }
    },
    {
      "cell_type": "code",
      "source": [
        "# Prompt the user to enter a number\n",
        "num = int(input(\"Enter a positive integer: \"))\n",
        "\n",
        "# Initialize the factorial and counter variables\n",
        "factorial = 1\n",
        "counter = num\n",
        "\n",
        "# Calculate the factorial using a while loop\n",
        "while counter > 0:\n",
        "    factorial *= counter  # Multiply the factorial by the current counter value\n",
        "    counter -= 1          # Decrement the counter\n",
        "\n",
        "# Display the result\n",
        "print(f\"The factorial of {num} is: {factorial}\")\n"
      ],
      "metadata": {
        "colab": {
          "base_uri": "https://localhost:8080/"
        },
        "id": "xRffjbFszFDm",
        "outputId": "84cda465-999d-44a2-be45-2921670433b3"
      },
      "execution_count": 16,
      "outputs": [
        {
          "output_type": "stream",
          "name": "stdout",
          "text": [
            "Enter a positive integer: 5\n",
            "The factorial of 5 is: 120\n"
          ]
        }
      ]
    }
  ],
  "metadata": {
    "colab": {
      "name": "Welcome To Colab",
      "toc_visible": true,
      "provenance": []
    },
    "kernelspec": {
      "display_name": "Python 3",
      "name": "python3"
    }
  },
  "nbformat": 4,
  "nbformat_minor": 0
}