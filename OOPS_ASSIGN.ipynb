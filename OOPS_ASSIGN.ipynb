{
  "nbformat": 4,
  "nbformat_minor": 0,
  "metadata": {
    "colab": {
      "provenance": [],
      "authorship_tag": "ABX9TyOzhQZBnqMeJbServneYzAg",
      "include_colab_link": true
    },
    "kernelspec": {
      "name": "python3",
      "display_name": "Python 3"
    },
    "language_info": {
      "name": "python"
    }
  },
  "cells": [
    {
      "cell_type": "markdown",
      "metadata": {
        "id": "view-in-github",
        "colab_type": "text"
      },
      "source": [
        "<a href=\"https://colab.research.google.com/github/asain078/Assignment/blob/main/OOPS_ASSIGN.ipynb\" target=\"_parent\"><img src=\"https://colab.research.google.com/assets/colab-badge.svg\" alt=\"Open In Colab\"/></a>"
      ]
    },
    {
      "cell_type": "markdown",
      "source": [
        "1. What is Object-Oriented Programming (OOP)?"
      ],
      "metadata": {
        "id": "HAynWAAW54zp"
      }
    },
    {
      "cell_type": "markdown",
      "source": [
        "Object-Oriented Programming (OOP) is a programming paradigm that organizes code into objects, which are instances of classes. It allows for better modularity, reusability, and scalability in software development."
      ],
      "metadata": {
        "id": "_Sg5RMoJ58G_"
      }
    },
    {
      "cell_type": "markdown",
      "source": [
        "2. What is a class in OOP?"
      ],
      "metadata": {
        "id": "9cxal8Qf6L9E"
      }
    },
    {
      "cell_type": "markdown",
      "source": [
        "A class in Object-Oriented Programming (OOP) is a blueprint for creating objects. It defines the attributes (data) and methods (functions) that objects of that class will have.\n",
        "\n",
        "In Python, a class is created using the class keyword."
      ],
      "metadata": {
        "id": "QTrbVGKT6OU_"
      }
    },
    {
      "cell_type": "markdown",
      "source": [
        "3. What is an object in OOP?"
      ],
      "metadata": {
        "id": "ItLPSBJz6-13"
      }
    },
    {
      "cell_type": "markdown",
      "source": [
        "An object in Object-Oriented Programming (OOP) is an instance of a class. It represents a real-world entity with attributes (data) and methods (behaviors).\n",
        "\n",
        "Objects allow us to create multiple instances of a class, each with its own unique data."
      ],
      "metadata": {
        "id": "5fjvSs377Aln"
      }
    },
    {
      "cell_type": "markdown",
      "source": [
        "4. What is the difference between abstraction and encapsulation?\n"
      ],
      "metadata": {
        "id": "GARpRsnM70pX"
      }
    },
    {
      "cell_type": "markdown",
      "source": [
        "Both abstraction and encapsulation are fundamental concepts in Object-Oriented Programming (OOP), but they serve different purposes.\n",
        "\n",
        "1. Abstraction\n",
        "✅ Definition: Abstraction is the process of hiding implementation details and exposing only the necessary parts of an object. It focuses on what an object does rather than how it does it.\n",
        "\n",
        "✅ Purpose:\n",
        "\n",
        "Simplifies complex systems by showing only essential features.\n",
        "\n",
        "Reduces code complexity for users.\n",
        "\n",
        "Achieved using abstract classes and interfaces.\n",
        "\n",
        "✅ Example of Abstraction in Python Using an abstract class to define a blueprint for shapes:\n",
        "from abc import ABC, abstractmethod\n",
        "\n",
        "class Shape(ABC):  # Abstract class\n",
        "    @abstractmethod\n",
        "    def area(self):\n",
        "        pass  # Abstract method (no implementation)\n",
        "\n",
        "class Circle(Shape):\n",
        "    def __init__(self, radius):\n",
        "        self.radius = radius\n",
        "\n",
        "    def area(self):\n",
        "        return 3.14 * self.radius ** 2  # Implementation of abstract method\n",
        "\n",
        "# Creating an object\n",
        "circle = Circle(5)\n",
        "print(circle.area())  # Output: 78.5\n",
        "\n",
        "Here, the Shape class defines an abstract method area(), but hides its implementation. The Circle class provides the actual implementation.\n",
        "\n",
        "2. Encapsulation\n",
        "✅ Definition: Encapsulation is the process of restricting direct access to certain data and methods within an object. It protects an object's integrity by hiding its internal state and allowing controlled access through getter and setter methods.\n",
        "\n",
        "✅ Purpose:\n",
        "\n",
        "Prevents unintended modifications to data.\n",
        "\n",
        "Improves security by restricting access to sensitive information.\n",
        "\n",
        "Achieved using private attributes (__attribute) and getter/setter methods.\n",
        "\n",
        "✅ Example of Encapsulation in Python Using private attributes and getter/setter methods:\n",
        "\n",
        "python\n",
        "class BankAccount:\n",
        "    def __init__(self, balance):\n",
        "        self.__balance = balance  # Private attribute\n",
        "\n",
        "    def get_balance(self):  # Getter method\n",
        "        return self.__balance\n",
        "\n",
        "    def set_balance(self, amount):  # Setter method\n",
        "        if amount >= 0:\n",
        "            self.__balance = amount\n",
        "        else:\n",
        "            print(\"Invalid balance!\")\n",
        "\n",
        "# Creating an object\n",
        "account = BankAccount(1000)\n",
        "\n",
        "# Accessing balance using getter\n",
        "print(account.get_balance())  # Output: 1000\n",
        "\n",
        "# Modifying balance using setter\n",
        "account.set_balance(1500)\n",
        "print(account.get_balance())  # Output: 1500\n",
        "\n",
        "# Attempting direct access (will fail)\n",
        "# print(account.__balance)  # AttributeError\n",
        "📌 Here, __balance is private, meaning it cannot be accessed directly. Instead, we use get_balance() and set_balance() to control access."
      ],
      "metadata": {
        "id": "VMmhMmW77440"
      }
    },
    {
      "cell_type": "markdown",
      "source": [
        "5. What are dunder methods in Python?"
      ],
      "metadata": {
        "id": "w_5_CVmb8NhO"
      }
    },
    {
      "cell_type": "markdown",
      "source": [
        "Dunder Methods in Python (Magic Methods)\n",
        "Dunder methods (short for \"double underscore\" methods) are special methods in Python that begin and end with double underscores (__method__). They are also called magic methods because they enable built-in behaviors for objects.\n",
        "\n",
        "These methods allow customization of object behavior, such as initialization, string representation, operator overloading, and more.\n",
        "\n",
        "Here are some frequently used dunder methods:\n",
        "\n",
        "1. __init__() – Constructor Method\n",
        "Used to initialize an object when it is created.\n",
        "\n",
        "python\n",
        "class Person:\n",
        "    def __init__(self, name, age):\n",
        "        self.name = name\n",
        "        self.age = age\n",
        "\n",
        "p = Person(\"Alice\", 25)\n",
        "print(p.name)  # Output: Alice\n",
        "2. __str__() – String Representation\n",
        "Defines how an object is represented as a string (used in print()).\n",
        "\n",
        "python\n",
        "class Person:\n",
        "    def __init__(self, name, age):\n",
        "        self.name = name\n",
        "        self.age = age\n",
        "\n",
        "    def __str__(self):\n",
        "        return f\"Person(Name: {self.name}, Age: {self.age})\"\n",
        "\n",
        "p = Person(\"Alice\", 25)\n",
        "print(p)  # Output: Person(Name: Alice, Age: 25)\n",
        "3. __repr__() – Official String Representation\n",
        "Used for debugging; should return a string that can recreate the object.\n",
        "\n",
        "python\n",
        "class Person:\n",
        "    def __init__(self, name, age):\n",
        "        self.name = name\n",
        "        self.age = age\n",
        "\n",
        "    def __repr__(self):\n",
        "        return f'Person(\"{self.name}\", {self.age})'\n",
        "\n",
        "p = Person(\"Alice\", 25)\n",
        "print(repr(p))  # Output: Person(\"Alice\", 25)\n",
        "4. __len__() – Length of an Object\n",
        "Defines behavior for len() function.\n",
        "\n",
        "python\n",
        "class Book:\n",
        "    def __init__(self, title, pages):\n",
        "        self.title = title\n",
        "        self.pages = pages\n",
        "\n",
        "    def __len__(self):\n",
        "        return self.pages\n",
        "\n",
        "b = Book(\"Python Basics\", 300)\n",
        "print(len(b))  # Output: 300\n",
        "5. __add__() – Operator Overloading\n",
        "Allows objects to use the + operator.\n",
        "\n",
        "python\n",
        "class Number:\n",
        "    def __init__(self, value):\n",
        "        self.value = value\n",
        "\n",
        "    def __add__(self, other):\n",
        "        return Number(self.value + other.value)\n",
        "\n",
        "num1 = Number(10)\n",
        "num2 = Number(20)\n",
        "result = num1 + num2\n",
        "print(result.value)  # Output: 30\n",
        "6. __getitem__() – Indexing Support\n",
        "Allows objects to be accessed like lists.\n",
        "\n",
        "python\n",
        "class CustomList:\n",
        "    def __init__(self, items):\n",
        "        self.items = items\n",
        "\n",
        "    def __getitem__(self, index):\n",
        "        return self.items[index]\n",
        "\n",
        "cl = CustomList([10, 20, 30])\n",
        "print(cl[1])  # Output: 20\n",
        "Why Use Dunder Methods?\n",
        "✅ Enhance Object Behavior – Customize how objects interact with built-in functions. ✅ Improve Readability – Make objects behave naturally with operators (+, len(), print()). ✅ Enable Operator Overloading – Define custom behaviors for arithmetic operations."
      ],
      "metadata": {
        "id": "afncPS898gvG"
      }
    },
    {
      "cell_type": "markdown",
      "source": [
        " 6.Explain the concept of inheritance in OOP?\n"
      ],
      "metadata": {
        "id": "VwQmHibb84aX"
      }
    },
    {
      "cell_type": "markdown",
      "source": [
        "Inheritance in Object-Oriented Programming (OOP)\n",
        "Inheritance is an OOP concept that allows a class (child class) to inherit attributes and methods from another class (parent class). It promotes code reusability and hierarchical relationships between classes."
      ],
      "metadata": {
        "id": "Fojc6_Yi88XQ"
      }
    },
    {
      "cell_type": "markdown",
      "source": [
        "7. What is polymorphism in OOP?"
      ],
      "metadata": {
        "id": "7xQNLhVV9Tk4"
      }
    },
    {
      "cell_type": "markdown",
      "source": [
        "Polymorphism in Object-Oriented Programming (OOP)\n",
        "Polymorphism is an OOP concept that allows objects of different classes to be treated as objects of a common superclass. It enables method overriding and method overloading, allowing different classes to define the same method but with different behaviors.\n",
        "\n",
        "Key Benefits of Polymorphism\n",
        "✅ Code Flexibility – Allows different classes to share the same interface. ✅ Extensibility – Makes it easy to add new functionality without modifying existing code. ✅ Reduces Complexity – Simplifies code by using a common method name for different behaviors.\n",
        "\n",
        "Types of Polymorphism\n",
        "Method Overriding – A child class provides a different implementation of a method from the parent class.\n",
        "\n",
        "Method Overloading – A class defines multiple methods with the same name but different parameters (not natively supported in Python).\n",
        "\n",
        "Operator Overloading – Allows operators (+, *, etc.) to work with user-defined objects."
      ],
      "metadata": {
        "id": "TumxKgh5_cAj"
      }
    },
    {
      "cell_type": "markdown",
      "source": [
        "8. How is encapsulation achieved in Python?\n"
      ],
      "metadata": {
        "id": "Oc1JOrfu_dgg"
      }
    },
    {
      "cell_type": "markdown",
      "source": [
        "Encapsulation in Python (OOP)\n",
        "Encapsulation is an Object-Oriented Programming (OOP) concept that restricts direct access to an object's data and methods, ensuring controlled access through getter and setter methods. It helps in data protection and security by preventing unintended modifications.\n",
        "\n",
        "How Encapsulation is Achieved in Python?\n",
        "Encapsulation is implemented using access modifiers:\n",
        "\n",
        "Public Attributes (self.attribute) – Accessible from anywhere.\n",
        "\n",
        "Protected Attributes (self._attribute) – Should not be accessed directly but can be used within subclasses.\n",
        "\n",
        "Private Attributes (self.__attribute) – Cannot be accessed directly outside the class."
      ],
      "metadata": {
        "id": "Ef4RqOj3_rpT"
      }
    },
    {
      "cell_type": "markdown",
      "source": [
        "9. What is a constructor in Python?\n"
      ],
      "metadata": {
        "id": "ThJLNCNIAigO"
      }
    },
    {
      "cell_type": "markdown",
      "source": [
        "What is a Constructor in Python?\n",
        "A constructor in Python is a special method used to initialize objects when they are created. It is defined using the __init__() method inside a class.\n",
        "\n",
        "Key Features of a Constructor\n",
        "✅ Automatically Called – Executes when an object is created. ✅ Initializes Attributes – Assigns values to instance variables. ✅ No Explicit Call Needed – Runs without needing to be manually invoked.\n",
        "\n",
        "Example of a Constructor in Python\n",
        "python\n",
        "class Car:\n",
        "    def __init__(self, brand, model, year):  # Constructor method\n",
        "        self.brand = brand  # Instance variable\n",
        "        self.model = model\n",
        "        self.year = year\n",
        "\n",
        "    def display_info(self):\n",
        "        return f\"{self.year} {self.brand} {self.model}\"\n",
        "\n",
        "# Creating an object (constructor is called automatically)\n",
        "my_car = Car(\"Toyota\", \"Corolla\", 2022)\n",
        "\n",
        "# Accessing attributes and methods\n",
        "print(my_car.display_info())  # Output: 2022 Toyota Corolla\n",
        "📌 Here, the __init__() method initializes the brand, model, and year attributes when my_car is created.\n",
        "\n",
        "Types of Constructors in Python\n",
        "Default Constructor – No parameters except self.\n",
        "\n",
        "Parameterized Constructor – Accepts arguments to initialize attributes.\n",
        "\n",
        "Constructor with Default Values – Uses default values for parameters."
      ],
      "metadata": {
        "id": "aJ6mFvA1Aj8E"
      }
    },
    {
      "cell_type": "markdown",
      "source": [
        "10. What are class and static methods in Python?"
      ],
      "metadata": {
        "id": "BI_-pAJqAzNj"
      }
    },
    {
      "cell_type": "markdown",
      "source": [
        "Class Methods vs. Static Methods in Python\n",
        "Python provides two special types of methods inside a class:\n",
        "\n",
        "Class Methods (@classmethod) – Operate on the class itself rather than instances.\n",
        "\n",
        "Static Methods (@staticmethod) – Do not depend on instance or class attributes.\n",
        "\n",
        "Both are defined using decorators:\n",
        "\n",
        "@classmethod for class methods\n",
        "\n",
        "@staticmethod for static methods\n",
        "\n",
        "1. Class Methods (@classmethod)\n",
        "✅ Operates on the class, not instances. ✅ Uses cls as the first parameter (instead of self). ✅ Can modify class-level attributes.\n",
        "\n",
        "Example of a Class Method\n",
        "python\n",
        "class Employee:\n",
        "    company = \"TechCorp\"  # Class attribute\n",
        "\n",
        "    def __init__(self, name, salary):\n",
        "        self.name = name\n",
        "        self.salary = salary\n",
        "\n",
        "    @classmethod\n",
        "    def set_company(cls, new_company):\n",
        "        cls.company = new_company  # Modifies class attribute\n",
        "\n",
        "# Using class method\n",
        "Employee.set_company(\"NewTech\")\n",
        "\n",
        "# Creating an instance\n",
        "emp = Employee(\"Alice\", 50000)\n",
        "print(emp.company)  # Output: NewTech\n",
        "📌 Here, set_company() modifies the class attribute company for all instances.\n",
        "\n",
        "2. Static Methods (@staticmethod)\n",
        "✅ Does not depend on instance or class attributes. ✅ Acts like a regular function inside a class. ✅ Useful for utility/helper functions.\n",
        "\n",
        "Example of a Static Method\n",
        "python\n",
        "class MathOperations:\n",
        "    @staticmethod\n",
        "    def add(x, y):\n",
        "        return x + y\n",
        "\n",
        "# Calling static method\n",
        "print(MathOperations.add(5, 3))  # Output: 8\n",
        "📌 Here, add() does not use self or cls, making it independent of the class."
      ],
      "metadata": {
        "id": "9u7Tc9-QA3TI"
      }
    },
    {
      "cell_type": "markdown",
      "source": [
        "11. What is method overloading in Python?"
      ],
      "metadata": {
        "id": "0TiU3CkcBYfh"
      }
    },
    {
      "cell_type": "markdown",
      "source": [
        "Method Overloading in Python\n",
        "Method Overloading is an Object-Oriented Programming (OOP) concept where multiple methods in the same class share the same name but have different parameters. It allows a method to handle different types or numbers of arguments.\n",
        "\n",
        "However, Python does not support true method overloading like Java or C++. Instead, Python achieves method overloading using default arguments or *args and **kwargs."
      ],
      "metadata": {
        "id": "k004QjWkBbQM"
      }
    },
    {
      "cell_type": "markdown",
      "source": [
        "12. What is method overriding in OOP?"
      ],
      "metadata": {
        "id": "VlsJPDzxCElt"
      }
    },
    {
      "cell_type": "markdown",
      "source": [
        "Method Overriding in Object-Oriented Programming (OOP)\n",
        "Method Overriding is an OOP concept where a child class provides a new implementation for a method that is already defined in its parent class. This allows the child class to modify or extend the behavior of the inherited method.\n",
        "\n",
        "Key Features of Method Overriding\n",
        "✅ Same method name in both parent and child classes. ✅ Same parameters but different implementation in the child class. ✅ Achieved through inheritance. ✅ Allows customization of parent class behavior."
      ],
      "metadata": {
        "id": "OKOG8nfrCKjN"
      }
    },
    {
      "cell_type": "markdown",
      "source": [
        "13. What is a property decorator in Python?"
      ],
      "metadata": {
        "id": "lbkhckVmCgpR"
      }
    },
    {
      "cell_type": "markdown",
      "source": [
        "Property Decorator (@property) in Python\n",
        "The property decorator (@property) in Python is used to define getter methods in a class, allowing controlled access to private attributes. It helps in encapsulation by restricting direct modification of attributes while providing a way to retrieve and update them.\n",
        "\n",
        "Key Features of @property\n",
        "✅ Encapsulates attribute access – Prevents direct modification. ✅ Defines getter, setter, and deleter methods. ✅ Improves code readability – Allows attribute-like access instead of method calls."
      ],
      "metadata": {
        "id": "p44HQ0I8CkZK"
      }
    },
    {
      "cell_type": "markdown",
      "source": [
        " 14.Why is polymorphism important in OOP\n"
      ],
      "metadata": {
        "id": "0Y9We0l4D1DC"
      }
    },
    {
      "cell_type": "markdown",
      "source": [
        "Polymorphism is a fundamental concept in OOP that allows objects of different classes to be treated as objects of a common superclass. It enables method overriding, method overloading, and operator overloading, making code more flexible and reusable.\n",
        "\n",
        "Why is Polymorphism Important?\n",
        "✅ 1. Code Reusability\n",
        "\n",
        "Allows different classes to share the same method name while implementing different behaviors.\n",
        "\n",
        "Reduces code duplication and improves maintainability.\n",
        "\n",
        "✅ 2. Flexibility in Code Execution\n",
        "\n",
        "Enables dynamic method calls based on object type.\n",
        "\n",
        "Makes code adaptable to future changes without modifying existing logic.\n",
        "\n",
        "✅ 3. Supports Method Overriding\n",
        "\n",
        "Allows child classes to modify inherited methods from the parent class.\n",
        "\n",
        "Helps in customizing behavior while maintaining a common interface.\n",
        "\n",
        "✅ 4. Enables Operator Overloading\n",
        "\n",
        "Allows operators (+, *, etc.) to work with user-defined objects.\n",
        "\n",
        "Improves readability and usability of custom classes.\n",
        "\n",
        "✅ 5. Enhances Code Maintainability\n",
        "\n",
        "Simplifies complex systems by using a common interface.\n",
        "\n",
        "Makes it easier to extend functionality without breaking existing code."
      ],
      "metadata": {
        "id": "jlZAZSvuD4UU"
      }
    },
    {
      "cell_type": "markdown",
      "source": [
        "15. What is an abstract class in Python?\n"
      ],
      "metadata": {
        "id": "8vR9Y4XFEhVK"
      }
    },
    {
      "cell_type": "markdown",
      "source": [
        "Abstract Class in Python\n",
        "An abstract class in Python is a class that cannot be instantiated and serves as a blueprint for other classes. It contains abstract methods, which must be implemented by its child classes.\n",
        "\n",
        "Python provides the ABC (Abstract Base Class) module to define abstract classes.\n",
        "\n",
        "Key Features of Abstract Classes\n",
        "✅ Cannot be instantiated – You cannot create objects from an abstract class. ✅ Defines abstract methods – Methods that must be implemented in child classes. ✅ Encourages code reusability – Provides a common interface for multiple subclasses. ✅ Uses ABC module – Abstract classes are created using ABC from abc module."
      ],
      "metadata": {
        "id": "0mdBf532GAaV"
      }
    },
    {
      "cell_type": "markdown",
      "source": [
        "16. What are the advantages of OOP?"
      ],
      "metadata": {
        "id": "7ZfBdkKJGIop"
      }
    },
    {
      "cell_type": "markdown",
      "source": [
        "Advantages of Object-Oriented Programming (OOP)\n",
        "Object-Oriented Programming (OOP) is a programming paradigm that organizes code into objects, which are instances of classes. It provides several benefits that improve code reusability, scalability, and maintainability."
      ],
      "metadata": {
        "id": "e_kA1P9yGMmF"
      }
    },
    {
      "cell_type": "markdown",
      "source": [
        "17. What is the difference between a class variable and an instance variable?"
      ],
      "metadata": {
        "id": "e9mu5mD_GXaC"
      }
    },
    {
      "cell_type": "markdown",
      "source": [
        "Difference Between Class Variables and Instance Variables in Python\n",
        "In Object-Oriented Programming (OOP), variables in a class can be categorized into class variables and instance variables. They differ in scope, accessibility, and behavior.\n",
        "\n",
        "1. Class Variables\n",
        "✅ Shared among all instances of the class. ✅ Defined inside the class but outside any method. ✅ Modified at the class level (affects all instances).\n",
        "\n",
        "Here, wheels is a class variable shared across all instances. 📌 Changing Car.wheels updates the value for all objects.\n",
        "\n",
        "2. Instance Variables\n",
        "✅ Unique to each object (not shared). ✅ Defined inside the __init__() method using self. ✅ Modifying an instance variable affects only that object."
      ],
      "metadata": {
        "id": "61xu_9wAGzY3"
      }
    },
    {
      "cell_type": "markdown",
      "source": [
        "18. What is multiple inheritance in Python?"
      ],
      "metadata": {
        "id": "gezDH8MoG-lJ"
      }
    },
    {
      "cell_type": "markdown",
      "source": [
        "Multiple Inheritance in Python\n",
        "Multiple inheritance is an Object-Oriented Programming (OOP) concept where a child class inherits from multiple parent classes. This allows the child class to access attributes and methods from all parent classes.\n",
        "\n",
        "Key Features of Multiple Inheritance\n",
        "✅ Allows a class to inherit from multiple parent classes. ✅ Combines functionalities from different classes. ✅ Can lead to complexity due to method resolution order (MRO)."
      ],
      "metadata": {
        "id": "FulV_086H9o8"
      }
    },
    {
      "cell_type": "markdown",
      "source": [
        "19. Explain the purpose of ‘’__str__’ and ‘__repr__’ ‘ methods in Python?"
      ],
      "metadata": {
        "id": "rBIX5XGuIE2o"
      }
    },
    {
      "cell_type": "markdown",
      "source": [
        "Purpose of __str__() and __repr__() Methods in Python\n",
        "Both __str__() and __repr__() are dunder (double underscore) methods in Python that define how objects are represented as strings. They are used for string representation of objects but serve different purposes.\n",
        "\n",
        "1. __str__() – User-Friendly String Representation\n",
        "✅ Purpose: Returns a human-readable string representation of an object. ✅ Used By: print(object) or str(object). ✅ Goal: Makes output easy to understand for end users.\n",
        "\n",
        "2. __repr__() – Developer-Friendly Representation\n",
        "✅ Purpose: Returns a formal string representation of an object. ✅ Used By: repr(object). ✅ Goal: Should return a string that can recreate the object."
      ],
      "metadata": {
        "id": "Y7bxcHeoII4N"
      }
    },
    {
      "cell_type": "markdown",
      "source": [
        "20. What is the significance of the ‘super()’ function in Python?"
      ],
      "metadata": {
        "id": "hTFS2c3uIXrD"
      }
    },
    {
      "cell_type": "markdown",
      "source": [
        "Significance of the super() Function in Python\n",
        "The super() function in Python is used to call methods from a parent class inside a child class. It helps in method overriding, code reusability, and maintaining the method resolution order (MRO) in multiple inheritance.\n",
        "\n",
        "Key Features of super()\n",
        "✅ Calls parent class methods without explicitly naming the parent class. ✅ Supports method overriding while still using parent functionality. ✅ Works with multiple inheritance by following the MRO (Method Resolution Order). ✅ Improves code maintainability by avoiding hardcoded parent class names."
      ],
      "metadata": {
        "id": "JEbAex6HIbNJ"
      }
    },
    {
      "cell_type": "markdown",
      "source": [
        "21. What is the significance of the __del__ method in Python?"
      ],
      "metadata": {
        "id": "D1Nx39ArItKE"
      }
    },
    {
      "cell_type": "markdown",
      "source": [
        "Significance of the __del__() Method in Python\n",
        "The __del__() method is a destructor in Python that is called when an object is about to be destroyed. It is used to clean up resources, such as closing files, releasing memory, or disconnecting from databases.\n",
        "\n",
        "Key Features of __del__()\n",
        "✅ Automatically called when an object is deleted. ✅ Used for cleanup operations (closing files, releasing memory). ✅ Triggered when an object goes out of scope or del is used. ✅ Not commonly used because Python has automatic garbage collection."
      ],
      "metadata": {
        "id": "DqAWqNLHIzs4"
      }
    },
    {
      "cell_type": "markdown",
      "source": [
        "22. What is the difference between @staticmethod and @classmethod in Python?"
      ],
      "metadata": {
        "id": "XfVK9H-xJOjq"
      }
    },
    {
      "cell_type": "markdown",
      "source": [
        "Difference Between @staticmethod and @classmethod in Python\n",
        "Python provides two special types of methods inside a class:\n",
        "\n",
        "Class Methods (@classmethod) – Operate on the class itself rather than instances.\n",
        "\n",
        "Static Methods (@staticmethod) – Do not depend on instance or class attributes.\n",
        "\n",
        "Both are defined using decorators:\n",
        "\n",
        "@classmethod for class methods\n",
        "\n",
        "@staticmethod for static methods\n",
        "\n",
        "1. Class Methods (@classmethod)\n",
        "✅ Operates on the class, not instances. ✅ Uses cls as the first parameter (instead of self). ✅ Can modify class-level attributes.\n",
        "2. Static Methods (@staticmethod)\n",
        "✅ Does not depend on instance or class attributes. ✅ Acts like a regular function inside a class. ✅ Useful for utility/helper functions."
      ],
      "metadata": {
        "id": "tcDA45bIJTiE"
      }
    },
    {
      "cell_type": "markdown",
      "source": [
        "23. How does polymorphism work in Python with inheritance?\n"
      ],
      "metadata": {
        "id": "jKbzh6TIJqkh"
      }
    },
    {
      "cell_type": "markdown",
      "source": [
        "Polymorphism in Python with Inheritance\n",
        "Polymorphism is an Object-Oriented Programming (OOP) concept that allows different classes to define the same method name but with different behaviors. When combined with inheritance, polymorphism enables child classes to override parent class methods, making code more flexible and reusable.\n",
        "\n",
        "How Polymorphism Works with Inheritance?\n",
        "✅ Method Overriding – A child class provides a different implementation for a method inherited from the parent class. ✅ Dynamic Method Calls – The correct method is called based on the object type at runtime. ✅ Supports Code Reusability – Parent class defines a common interface, and child classes customize behavior"
      ],
      "metadata": {
        "id": "rxfgxcEdKQOQ"
      }
    },
    {
      "cell_type": "markdown",
      "source": [
        "24.What is method chaining in Python OO?"
      ],
      "metadata": {
        "id": "I8ZLNSMBKSB5"
      }
    },
    {
      "cell_type": "markdown",
      "source": [
        "Method Chaining in Python (OOP)\n",
        "Method chaining is a technique in Object-Oriented Programming (OOP) where multiple methods are called on the same object in a single line. This is achieved by returning self from each method, allowing subsequent method calls to be linked together.\n",
        "\n",
        "Key Features of Method Chaining\n",
        "✅ Improves readability – Reduces the need for multiple lines of code. ✅ Enhances efficiency – Allows sequential method execution in a single statement. ✅ Requires returning self – Each method must return the object itself (self)."
      ],
      "metadata": {
        "id": "OItWeAjbKuTy"
      }
    },
    {
      "cell_type": "markdown",
      "source": [
        "25. What is the purpose of the __call__ method in Python?"
      ],
      "metadata": {
        "id": "4c0bXRwJK_W9"
      }
    },
    {
      "cell_type": "markdown",
      "source": [
        "Purpose of the __call__() Method in Python\n",
        "The __call__() method in Python allows an instance of a class to be called like a function. When an object has a __call__() method defined, using object() behaves like calling a function.\n",
        "\n",
        "Key Features of __call__()\n",
        "✅ Makes objects callable – Allows instances to be used like functions. ✅ Enhances flexibility – Enables dynamic behavior for objects. ✅ Useful for decorators, caching, and function-like objects."
      ],
      "metadata": {
        "id": "cK7U9lyiLWSz"
      }
    },
    {
      "cell_type": "markdown",
      "source": [
        "\n",
        "# Practical Questions\n"
      ],
      "metadata": {
        "id": "F7g49_p-LZS8"
      }
    },
    {
      "cell_type": "markdown",
      "source": [
        "1. Create a parent class Animal with a method speak() that prints a generic message. Create a child class Dog\n",
        "that overrides the speak() method to print \"Bark!\"."
      ],
      "metadata": {
        "id": "ZnWUXjNzMByo"
      }
    },
    {
      "cell_type": "markdown",
      "source": [
        "# Parent class\n",
        "class Animal:\n",
        "    def speak(self):\n",
        "        print(\"I make a sound\")\n",
        "\n",
        "# Child class (inherits from Animal)\n",
        "class Dog(Animal):\n",
        "    def speak(self):  # Overriding the method\n",
        "        print(\"Bark!\")\n",
        "\n",
        "# Creating objects\n",
        "animal = Animal()\n",
        "dog = Dog()\n",
        "\n",
        "# Calling the speak() method\n",
        "animal.speak()  # Output: I make a sound\n",
        "dog.speak()     # Output: Bark!\n"
      ],
      "metadata": {
        "id": "GBi_cP2HMqvf"
      }
    },
    {
      "cell_type": "code",
      "source": [
        "# Parent class\n",
        "class Animal:\n",
        "    def speak(self):\n",
        "        print(\"I make a sound\")\n",
        "\n",
        "# Child class (inherits from Animal)\n",
        "class Dog(Animal):\n",
        "    def speak(self):  # Overriding the method\n",
        "        print(\"Bark!\")\n",
        "\n",
        "# Creating objects\n",
        "animal = Animal()\n",
        "dog = Dog()\n",
        "\n",
        "# Calling the speak() method\n",
        "animal.speak()  # Output: I make a sound\n",
        "dog.speak()     # Output: Bark!\n"
      ],
      "metadata": {
        "id": "_lTtqBjvM56y"
      },
      "execution_count": null,
      "outputs": []
    },
    {
      "cell_type": "markdown",
      "source": [
        " 2. Write a program to create an abstract class Shape with a method area(). Derive classes Circle and Rectangle\n",
        "from it and implement the area() method in *both*"
      ],
      "metadata": {
        "id": "AIgliBFtMFtA"
      }
    },
    {
      "cell_type": "code",
      "source": [
        "from abc import ABC, abstractmethod\n",
        "\n",
        "# Abstract class\n",
        "class Shape(ABC):\n",
        "    @abstractmethod\n",
        "    def area(self):\n",
        "        pass  # Abstract method (must be implemented in child classes)\n",
        "\n",
        "# Derived class: Circle\n",
        "class Circle(Shape):\n",
        "    def __init__(self, radius):\n",
        "        self.radius = radius\n",
        "\n",
        "    def area(self):  # Implementing abstract method\n",
        "        return 3.14 * self.radius ** 2\n",
        "\n",
        "# Derived class: Rectangle\n",
        "class Rectangle(Shape):\n",
        "    def __init__(self, length, width):\n",
        "        self.length = length\n",
        "        self.width = width\n",
        "\n",
        "    def area(self):  # Implementing abstract method\n",
        "        return self.length * self.width\n",
        "\n",
        "# Creating objects\n",
        "circle = Circle(5)\n",
        "rectangle = Rectangle(4, 6)\n",
        "\n",
        "# Calling area() method\n",
        "print(f\"Circle Area: {circle.area()}\")      # Output: Circle Area: 78.5\n",
        "print(f\"Rectangle Area: {rectangle.area()}\") # Output: Rectangle Area: 24\n"
      ],
      "metadata": {
        "id": "3Ze3eTBJTgk2"
      },
      "execution_count": null,
      "outputs": []
    },
    {
      "cell_type": "markdown",
      "source": [
        "3.and further derive a class ElectricCar that adds a battery attribute.\n",
        "\n"
      ],
      "metadata": {
        "id": "clVNShDFUBOF"
      }
    },
    {
      "cell_type": "code",
      "source": [
        "# Parent class\n",
        "class Vehicle:\n",
        "    def __init__(self, brand, model):\n",
        "        self.brand = brand\n",
        "        self.model = model\n",
        "\n",
        "    def display_info(self):\n",
        "        return f\"{self.brand} {self.model}\"\n",
        "\n",
        "# Child class: Car (inherits from Vehicle)\n",
        "class Car(Vehicle):\n",
        "    def __init__(self, brand, model, fuel_type):\n",
        "        super().__init__(brand, model)  # Calling parent constructor\n",
        "        self.fuel_type = fuel_type\n",
        "\n",
        "    def display_info(self):\n",
        "        return f\"{self.brand} {self.model}, Fuel: {self.fuel_type}\"\n",
        "\n",
        "# Further derived class: ElectricCar (inherits from Car)\n",
        "class ElectricCar(Car):\n",
        "    def __init__(self, brand, model, battery_capacity):\n",
        "        super().__init__(brand, model, \"Electric\")  # Fuel type is always Electric\n",
        "        self.battery_capacity = battery_capacity\n",
        "\n",
        "    def display_info(self):\n",
        "        return f\"{self.brand} {self.model}, Battery: {self.battery_capacity} kWh\"\n",
        "\n",
        "# Creating objects\n",
        "car = Car(\"Toyota\", \"Corolla\", \"Petrol\")\n",
        "electric_car = ElectricCar(\"Tesla\", \"Model S\", 100)\n",
        "\n",
        "# Displaying information\n",
        "print(car.display_info())         # Output: Toyota Corolla, Fuel: Petrol\n",
        "print(electric_car.display_info()) # Output: Tesla Model S, Battery: 100 kWh\n",
        ","
      ],
      "metadata": {
        "id": "G8uu8hD8UYnK"
      },
      "execution_count": null,
      "outputs": []
    },
    {
      "cell_type": "markdown",
      "source": [
        " 4. Demonstrate polymorphism by creating a base class Bird with a method fly(). Create two derived classes Sparrow and Penguin that override the fly() method.\n"
      ],
      "metadata": {
        "id": "NJEnxJi8UZ7E"
      }
    },
    {
      "cell_type": "code",
      "source": [
        "# Base class\n",
        "class Bird:\n",
        "    def fly(self):\n",
        "        return \"Some birds can fly.\"\n",
        "\n",
        "# Derived class: Sparrow\n",
        "class Sparrow(Bird):\n",
        "    def fly(self):  # Overriding the method\n",
        "        return \"Sparrow flies high in the sky!\"\n",
        "\n",
        "# Derived class: Penguin\n",
        "class Penguin(Bird):\n",
        "    def fly(self):  # Overriding the method\n",
        "        return \"Penguins cannot fly, but they swim well!\"\n",
        "\n",
        "# Using polymorphism\n",
        "birds = [Sparrow(), Penguin(), Bird()]\n",
        "\n",
        "for bird in birds:\n",
        "    print(bird.fly())\n"
      ],
      "metadata": {
        "id": "EXaA-gFwUshS"
      },
      "execution_count": null,
      "outputs": []
    },
    {
      "cell_type": "markdown",
      "source": [
        "5.Write a program to demonstrate encapsulation by creating a class BankAccount with private attributes\n",
        "balance and methods to deposit, withdraw, and check balance."
      ],
      "metadata": {
        "id": "7sCp5_ziVaRv"
      }
    },
    {
      "cell_type": "code",
      "source": [
        "class BankAccount:\n",
        "    def __init__(self, account_holder, initial_balance=0):\n",
        "        self.account_holder = account_holder\n",
        "        self.__balance = initial_balance  # Private attribute\n",
        "\n",
        "    def deposit(self, amount):\n",
        "        if amount > 0:\n",
        "            self.__balance += amount\n",
        "            print(f\"Deposited: ${amount}\")\n",
        "        else:\n",
        "            print(\"Invalid deposit amount!\")\n",
        "\n",
        "    def withdraw(self, amount):\n",
        "        if 0 < amount <= self.__balance:\n",
        "            self.__balance -= amount\n",
        "            print(f\"Withdrawn: ${amount}\")\n",
        "        else:\n",
        "            print(\"Insufficient balance or invalid amount!\")\n",
        "\n",
        "    def check_balance(self):\n",
        "        return f\"Balance: ${self.__balance}\"\n",
        "\n",
        "# Creating an object\n",
        "account = BankAccount(\"Alice\", 1000)\n",
        "\n",
        "# Performing transactions\n",
        "account.deposit(500)\n",
        "account.withdraw(300)\n",
        "print(account.check_balance())  # Output: Balance: $1200\n",
        "\n",
        "# Attempting direct access (will fail)\n",
        "# print(account.__balance)  # AttributeError\n"
      ],
      "metadata": {
        "id": "QurG00liVrIi"
      },
      "execution_count": null,
      "outputs": []
    },
    {
      "cell_type": "markdown",
      "source": [
        "6. 6. Demonstrate runtime polymorphism using a method play() in a base class Instrument. Derive classes Guitar\n"
      ],
      "metadata": {
        "id": "LpXGW206V3Cg"
      }
    },
    {
      "cell_type": "code",
      "source": [
        "# Base class\n",
        "class Instrument:\n",
        "    def play(self):\n",
        "        return \"Playing an instrument.\"\n",
        "\n",
        "# Derived class: Guitar\n",
        "class Guitar(Instrument):\n",
        "    def play(self):  # Overriding the method\n",
        "        return \"Strumming the guitar!\"\n",
        "\n",
        "# Derived class: Piano\n",
        "class Piano(Instrument):\n",
        "    def play(self):  # Overriding the method\n",
        "        return \"Playing the piano keys!\"\n",
        "\n",
        "# Using polymorphism\n",
        "instruments = [Guitar(), Piano(), Instrument()]\n",
        "\n",
        "for instrument in instruments:\n",
        "    print(instrument.play())\n"
      ],
      "metadata": {
        "id": "ZwKklifCV2sy"
      },
      "execution_count": null,
      "outputs": []
    },
    {
      "cell_type": "markdown",
      "source": [
        "7. Create a class MathOperations with a class method add_numbers() to add two numbers and a static\n",
        "method subtract_numbers() to subtract two numbers"
      ],
      "metadata": {
        "id": "A5ByNDxmWDPt"
      }
    },
    {
      "cell_type": "code",
      "source": [
        "class MathOperations:\n",
        "    @classmethod\n",
        "    def add_numbers(cls, a, b):  # Class method\n",
        "        return a + b\n",
        "\n",
        "    @staticmethod\n",
        "    def subtract_numbers(a, b):  # Static method\n",
        "        return a - b\n",
        "\n",
        "# Using class method\n",
        "print(MathOperations.add_numbers(10, 5))  # Output: 15\n",
        "\n",
        "# Using static method\n",
        "print(MathOperations.subtract_numbers(10, 5))  # Output: 5\n"
      ],
      "metadata": {
        "id": "Yga97wtcWpNN"
      },
      "execution_count": null,
      "outputs": []
    },
    {
      "cell_type": "markdown",
      "source": [
        " 8. Implement a class Person with a class method to count the total number of persons created.\n"
      ],
      "metadata": {
        "id": "wgLjW0loWuhu"
      }
    },
    {
      "cell_type": "code",
      "source": [
        "class Person:\n",
        "    count = 0  # Class variable to track number of instances\n",
        "\n",
        "    def __init__(self, name):\n",
        "        self.name = name\n",
        "        Person.count += 1  # Increment count when a new object is created\n",
        "\n",
        "    @classmethod\n",
        "    def get_person_count(cls):  # Class method\n",
        "        return f\"Total persons created: {cls.count}\"\n",
        "\n",
        "# Creating objects\n",
        "p1 = Person(\"Alice\")\n",
        "p2 = Person(\"Bob\")\n",
        "p3 = Person(\"Charlie\")\n",
        "\n",
        "# Checking total person count\n",
        "print(Person.get_person_count())  # Output: Total persons created: 3\n"
      ],
      "metadata": {
        "colab": {
          "base_uri": "https://localhost:8080/"
        },
        "id": "D0ctcm2PW1FX",
        "outputId": "fb62c7de-7e24-456b-a23d-dcd10267e7a2"
      },
      "execution_count": 1,
      "outputs": [
        {
          "output_type": "stream",
          "name": "stdout",
          "text": [
            "Total persons created: 3\n"
          ]
        }
      ]
    },
    {
      "cell_type": "markdown",
      "source": [
        "9. Write a class Fraction with attributes numerator and denominator. Override the str method to display the\n",
        "fraction as \"numerator/denominator\"."
      ],
      "metadata": {
        "id": "9dnD23mFW93b"
      }
    },
    {
      "cell_type": "code",
      "source": [
        "class Fraction:\n",
        "    def __init__(self, numerator, denominator):\n",
        "        if denominator == 0:\n",
        "            raise ValueError(\"Denominator cannot be zero!\")\n",
        "        self.numerator = numerator\n",
        "        self.denominator = denominator\n",
        "\n",
        "    def __str__(self):  # Overriding __str__()\n",
        "        return f\"{self.numerator}/{self.denominator}\"\n",
        "\n",
        "# Creating fraction objects\n",
        "frac1 = Fraction(3, 4)\n",
        "frac2 = Fraction(5, 8)\n",
        "\n",
        "# Displaying fractions\n",
        "print(frac1)  # Output: 3/4\n",
        "print(frac2)  # Output: 5/8\n"
      ],
      "metadata": {
        "id": "CI-opNoGXE4o"
      },
      "execution_count": null,
      "outputs": []
    },
    {
      "cell_type": "markdown",
      "source": [
        " 10. Demonstrate operator overloading by creating a class Vector and overriding the add method to add two\n",
        "vectors."
      ],
      "metadata": {
        "id": "dWY9jG-qXLCX"
      }
    },
    {
      "cell_type": "code",
      "source": [
        "class Vector:\n",
        "    def __init__(self, x, y):\n",
        "        self.x = x\n",
        "        self.y = y\n",
        "\n",
        "    def __add__(self, other):  # Overloading the + operator\n",
        "        return Vector(self.x + other.x, self.y + other.y)\n",
        "\n",
        "    def __str__(self):  # Overriding __str__() for display\n",
        "        return f\"Vector({self.x}, {self.y})\"\n",
        "\n",
        "# Creating vector objects\n",
        "v1 = Vector(2, 3)\n",
        "v2 = Vector(4, 5)\n",
        "\n",
        "# Adding vectors using overloaded + operator\n",
        "result = v1 + v2\n",
        "\n",
        "# Displaying result\n",
        "print(result)  # Output: Vector(6, 8)\n"
      ],
      "metadata": {
        "colab": {
          "base_uri": "https://localhost:8080/"
        },
        "id": "YFLyRvpvXTIp",
        "outputId": "9ba7744d-193b-41f0-87d1-b872bbdf59fc"
      },
      "execution_count": 2,
      "outputs": [
        {
          "output_type": "stream",
          "name": "stdout",
          "text": [
            "Vector(6, 8)\n"
          ]
        }
      ]
    },
    {
      "cell_type": "markdown",
      "source": [
        " 11. Create a class Person with attributes name and age. Add a method greet() that prints \"Hello, my name is\n",
        "{name} and I am {age} years old.\""
      ],
      "metadata": {
        "id": "3qOZvMQqXUcz"
      }
    },
    {
      "cell_type": "code",
      "source": [
        "class Person:\n",
        "    def __init__(self, name, age):\n",
        "        self.name = name\n",
        "        self.age = age\n",
        "\n",
        "    def greet(self):  # Method to display greeting\n",
        "        print(f\"Hello, my name is {self.name} and I am {self.age} years old.\")\n",
        "\n",
        "# Creating person objects\n",
        "p1 = Person(\"Alice\", 25)\n",
        "p2 = Person(\"Bob\", 30)\n",
        "\n",
        "# Calling greet method\n",
        "p1.greet()  # Output: Hello, my name is Alice and I am 25 years old.\n",
        "p2.greet()  # Output: Hello, my name is Bob and I am 30 years old.\n"
      ],
      "metadata": {
        "id": "ATUsn_nuXYv4"
      },
      "execution_count": null,
      "outputs": []
    },
    {
      "cell_type": "markdown",
      "source": [
        " 12. Implement a class Student with attributes name and grades. Create a method average_grade() to compute\n",
        "the average of the grades."
      ],
      "metadata": {
        "id": "A4BHKWzGXdI-"
      }
    },
    {
      "cell_type": "code",
      "source": [
        "class Student:\n",
        "    def __init__(self, name, grades):\n",
        "        self.name = name\n",
        "        self.grades = grades  # List of grades\n",
        "\n",
        "    def average_grade(self):  # Method to compute average\n",
        "        if self.grades:  # Ensure grades list is not empty\n",
        "            return sum(self.grades) / len(self.grades)\n",
        "        return 0  # Return 0 if no grades are present\n",
        "\n",
        "# Creating student objects\n",
        "s1 = Student(\"Alice\", [85, 90, 78])\n",
        "s2 = Student(\"Bob\", [92, 88, 95, 89])\n",
        "\n",
        "# Computing and displaying average grades\n",
        "print(f\"{s1.name}'s Average Grade: {s1.average_grade():.2f}\")  # Output: Alice's Average Grade: 84.33\n",
        "print(f\"{s2.name}'s Average Grade: {s2.average_grade():.2f}\")  # Output: Bob's Average Grade: 91.00\n"
      ],
      "metadata": {
        "id": "--2GL-p4XlXe"
      },
      "execution_count": null,
      "outputs": []
    },
    {
      "cell_type": "markdown",
      "source": [
        " 12. Implement a class Student with attributes name and grades. Create a method average_grade() to compute\n",
        "the average of the grades."
      ],
      "metadata": {
        "id": "A98zpdxGXna1"
      }
    },
    {
      "cell_type": "code",
      "source": [
        "class Student:\n",
        "    def __init__(self, name, grades):\n",
        "        self.name = name\n",
        "        self.grades = grades  # List of grades\n",
        "\n",
        "    def average_grade(self):  # Method to compute average\n",
        "        if self.grades:  # Ensure grades list is not empty\n",
        "            return sum(self.grades) / len(self.grades)\n",
        "        return 0  # Return 0 if no grades are present\n",
        "\n",
        "# Creating student objects\n",
        "s1 = Student(\"Alice\", [85, 90, 78])\n",
        "s2 = Student(\"Bob\", [92, 88, 95, 89])\n",
        "\n",
        "# Computing and displaying average grades\n",
        "print(f\"{s1.name}'s Average Grade: {s1.average_grade():.2f}\")  # Output: Alice's Average Grade: 84.33\n",
        "print(f\"{s2.name}'s Average Grade: {s2.average_grade():.2f}\")  # Output: Bob's Average Grade: 91.00\n"
      ],
      "metadata": {
        "colab": {
          "base_uri": "https://localhost:8080/"
        },
        "id": "kYxCcarNXqwn",
        "outputId": "b1fe77ac-6c83-4c7c-e1f0-d145df616dea"
      },
      "execution_count": 3,
      "outputs": [
        {
          "output_type": "stream",
          "name": "stdout",
          "text": [
            "Alice's Average Grade: 84.33\n",
            "Bob's Average Grade: 91.00\n"
          ]
        }
      ]
    },
    {
      "cell_type": "markdown",
      "source": [
        " 13. Create a class Rectangle with methods set_dimensions() to set the dimensions and area() to calculate the\n",
        "area."
      ],
      "metadata": {
        "id": "XqLk5SYgX12i"
      }
    },
    {
      "cell_type": "code",
      "source": [
        "class Rectangle:\n",
        "    def __init__(self, length=0, width=0):\n",
        "        self.length = length\n",
        "        self.width = width\n",
        "\n",
        "    def set_dimensions(self, length, width):  # Method to set dimensions\n",
        "        self.length = length\n",
        "        self.width = width\n",
        "\n",
        "    def area(self):  # Method to compute area\n",
        "        return self.length * self.width\n",
        "\n",
        "# Creating a rectangle object\n",
        "rect = Rectangle()\n",
        "\n",
        "# Setting dimensions\n",
        "rect.set_dimensions(5, 10)\n",
        "\n",
        "# Computing and displaying area\n",
        "print(f\"Rectangle Area: {rect.area()}\")  # Output: Rectangle Area: 50\n"
      ],
      "metadata": {
        "colab": {
          "base_uri": "https://localhost:8080/"
        },
        "id": "HU1lM_pLX96s",
        "outputId": "306c276a-c146-433b-b729-61705230eb2a"
      },
      "execution_count": 4,
      "outputs": [
        {
          "output_type": "stream",
          "name": "stdout",
          "text": [
            "Rectangle Area: 50\n"
          ]
        }
      ]
    },
    {
      "cell_type": "markdown",
      "source": [
        "14. Create a class Employee with a method calculate_salary() that computes the salary based on hours worked\n",
        "and hourly rate. Create a derived class Manager that adds a bonus to the salary"
      ],
      "metadata": {
        "id": "esBZU2V3YDV2"
      }
    },
    {
      "cell_type": "code",
      "source": [
        "# Base class: Employee\n",
        "class Employee:\n",
        "    def __init__(self, name, hours_worked, hourly_rate):\n",
        "        self.name = name\n",
        "        self.hours_worked = hours_worked\n",
        "        self.hourly_rate = hourly_rate\n",
        "\n",
        "    def calculate_salary(self):  # Method to compute salary\n",
        "        return self.hours_worked * self.hourly_rate\n",
        "\n",
        "# Derived class: Manager (inherits from Employee)\n",
        "class Manager(Employee):\n",
        "    def __init__(self, name, hours_worked, hourly_rate, bonus):\n",
        "        super().__init__(name, hours_worked, hourly_rate)  # Call parent constructor\n",
        "        self.bonus = bonus\n",
        "\n",
        "    def calculate_salary(self):  # Overriding method to add bonus\n",
        "        return super().calculate_salary() + self.bonus\n",
        "\n",
        "# Creating Employee and Manager objects\n",
        "emp = Employee(\"Alice\", 40, 20)\n",
        "mgr = Manager(\"Bob\", 40, 30, 500)\n",
        "\n",
        "# Computing and displaying salaries\n",
        "print(f\"{emp.name}'s Salary: ${emp.calculate_salary()}\")  # Output: Alice's Salary: $800\n",
        "print(f\"{mgr.name}'s Salary: ${mgr.calculate_salary()}\")  # Output: Bob's Salary: $1700\n"
      ],
      "metadata": {
        "id": "XFebNkaOYGCw"
      },
      "execution_count": null,
      "outputs": []
    },
    {
      "cell_type": "markdown",
      "source": [
        "15. Create a class Product with attributes name, price, and quantity. Implement a method total_price() that\n",
        "calculates the total price of the product."
      ],
      "metadata": {
        "id": "BHaey_x4YKLL"
      }
    },
    {
      "cell_type": "code",
      "source": [
        "class Product:\n",
        "    def __init__(self, name, price, quantity):\n",
        "        self.name = name\n",
        "        self.price = price\n",
        "        self.quantity = quantity\n",
        "\n",
        "    def total_price(self):  # Method to compute total price\n",
        "        return self.price * self.quantity\n",
        "\n",
        "# Creating product objects\n",
        "product1 = Product(\"Laptop\", 800, 2)\n",
        "product2 = Product(\"Phone\", 500, 3)\n",
        "\n",
        "# Computing and displaying total prices\n",
        "print(f\"Total price for {product1.name}: ${product1.total_price()}\")  # Output: Total price for Laptop: $1600\n",
        "print(f\"Total price for {product2.name}: ${product2.total_price()}\")  # Output: Total price for Phone: $1500\n"
      ],
      "metadata": {
        "id": "n6aAgTfTYM_W"
      },
      "execution_count": null,
      "outputs": []
    },
    {
      "cell_type": "markdown",
      "source": [
        " 16. Create a class Animal with an abstract method sound(). Create two derived classes Cow and Sheep that\n",
        "implement the sound() method"
      ],
      "metadata": {
        "id": "1G1An9qOYbZV"
      }
    },
    {
      "cell_type": "code",
      "source": [
        "from abc import ABC, abstractmethod\n",
        "\n",
        "# Abstract class\n",
        "class Animal(ABC):\n",
        "    @abstractmethod\n",
        "    def sound(self):  # Abstract method\n",
        "        pass\n",
        "\n",
        "# Derived class: Cow\n",
        "class Cow(Animal):\n",
        "    def sound(self):  # Implementing abstract method\n",
        "        return \"Moo!\"\n",
        "\n",
        "# Derived class: Sheep\n",
        "class Sheep(Animal):\n",
        "    def sound(self):  # Implementing abstract method\n",
        "        return \"Baa!\"\n",
        "\n",
        "# Creating objects\n",
        "cow = Cow()\n",
        "sheep = Sheep()\n",
        "\n",
        "# Calling sound() method\n",
        "print(f\"Cow: {cow.sound()}\")    # Output: Cow: Moo!\n",
        "print(f\"Sheep: {sheep.sound()}\") # Output: Sheep: Baa!\n"
      ],
      "metadata": {
        "id": "y7eizsOLYj26"
      },
      "execution_count": null,
      "outputs": []
    },
    {
      "cell_type": "markdown",
      "source": [
        " 17. Create a class Book with attributes title, author, and year_published. Add a method get_book_info() that\n",
        "returns a formatted string with the book's details."
      ],
      "metadata": {
        "id": "_rKqspznYmpF"
      }
    },
    {
      "cell_type": "code",
      "source": [
        "from abc import ABC, abstractmethod\n",
        "\n",
        "# Abstract class\n",
        "class Animal(ABC):\n",
        "    @abstractmethod\n",
        "    def sound(self):  # Abstract method\n",
        "        pass\n",
        "\n",
        "# Derived class: Cow\n",
        "class Cow(Animal):\n",
        "    def sound(self):  # Implementing abstract method\n",
        "        return \"Moo!\"\n",
        "\n",
        "# Derived class: Sheep\n",
        "class Sheep(Animal):\n",
        "    def sound(self):  # Implementing abstract method\n",
        "        return \"Baa!\"\n",
        "\n",
        "# Creating objects\n",
        "cow = Cow()\n",
        "sheep = Sheep()\n",
        "\n",
        "# Calling sound() method\n",
        "print(f\"Cow: {cow.sound()}\")    # Output: Cow: Moo!\n",
        "print(f\"Sheep: {sheep.sound()}\") # Output: Sheep: Baa!\n"
      ],
      "metadata": {
        "colab": {
          "base_uri": "https://localhost:8080/"
        },
        "id": "patPxtCeZM9J",
        "outputId": "dc139578-7060-444a-c9e4-c5bcd4b5f23f"
      },
      "execution_count": 5,
      "outputs": [
        {
          "output_type": "stream",
          "name": "stdout",
          "text": [
            "Cow: Moo!\n",
            "Sheep: Baa!\n"
          ]
        }
      ]
    },
    {
      "cell_type": "markdown",
      "source": [
        "18. Create a class House with attributes address and price. Create a derived class Mansion that adds an\n",
        "attribute number_of_rooms"
      ],
      "metadata": {
        "id": "GnHUueIxY38A"
      }
    },
    {
      "cell_type": "code",
      "source": [
        "from abc import ABC, abstractmethod\n",
        "\n",
        "# Abstract class\n",
        "class Animal(ABC):\n",
        "    @abstractmethod\n",
        "    def sound(self):  # Abstract method\n",
        "        pass\n",
        "\n",
        "# Derived class: Cow\n",
        "class Cow(Animal):\n",
        "    def sound(self):  # Implementing abstract method\n",
        "        return \"Moo!\"\n",
        "\n",
        "# Derived class: Sheep\n",
        "class Sheep(Animal):\n",
        "    def sound(self):  # Implementing abstract method\n",
        "        return \"Baa!\"\n",
        "\n",
        "# Creating objects\n",
        "cow = Cow()\n",
        "sheep = Sheep()\n",
        "\n",
        "# Calling sound() method\n",
        "print(f\"Cow: {cow.sound()}\")    # Output: Cow: Moo!\n",
        "print(f\"Sheep: {sheep.sound()}\") # Output: Sheep: Baa!\n"
      ],
      "metadata": {
        "id": "6d93pTK0ZBZe"
      },
      "execution_count": null,
      "outputs": []
    }
  ]
}